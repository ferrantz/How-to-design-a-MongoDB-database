{
 "cells": [
  {
   "cell_type": "markdown",
   "metadata": {},
   "source": [
    "## Import .tsv file"
   ]
  },
  {
   "cell_type": "code",
   "execution_count": 1,
   "metadata": {},
   "outputs": [
    {
     "data": {
      "text/html": [
       "<div>\n",
       "<style scoped>\n",
       "    .dataframe tbody tr th:only-of-type {\n",
       "        vertical-align: middle;\n",
       "    }\n",
       "\n",
       "    .dataframe tbody tr th {\n",
       "        vertical-align: top;\n",
       "    }\n",
       "\n",
       "    .dataframe thead th {\n",
       "        text-align: right;\n",
       "    }\n",
       "</style>\n",
       "<table border=\"1\" class=\"dataframe\">\n",
       "  <thead>\n",
       "    <tr style=\"text-align: right;\">\n",
       "      <th></th>\n",
       "      <th>tweet_id</th>\n",
       "      <th>user_id</th>\n",
       "    </tr>\n",
       "  </thead>\n",
       "  <tbody>\n",
       "    <tr>\n",
       "      <th>0</th>\n",
       "      <td>1256223753220034566</td>\n",
       "      <td>916540973190078465</td>\n",
       "    </tr>\n",
       "    <tr>\n",
       "      <th>1</th>\n",
       "      <td>1256223748904161280</td>\n",
       "      <td>697426379583983616</td>\n",
       "    </tr>\n",
       "    <tr>\n",
       "      <th>2</th>\n",
       "      <td>1256223744122593287</td>\n",
       "      <td>1277481013</td>\n",
       "    </tr>\n",
       "    <tr>\n",
       "      <th>3</th>\n",
       "      <td>1256223753463365632</td>\n",
       "      <td>596005899</td>\n",
       "    </tr>\n",
       "    <tr>\n",
       "      <th>4</th>\n",
       "      <td>1256223753115238406</td>\n",
       "      <td>139159502</td>\n",
       "    </tr>\n",
       "  </tbody>\n",
       "</table>\n",
       "</div>"
      ],
      "text/plain": [
       "              tweet_id             user_id\n",
       "0  1256223753220034566  916540973190078465\n",
       "1  1256223748904161280  697426379583983616\n",
       "2  1256223744122593287          1277481013\n",
       "3  1256223753463365632           596005899\n",
       "4  1256223753115238406           139159502"
      ]
     },
     "execution_count": 1,
     "metadata": {},
     "output_type": "execute_result"
    }
   ],
   "source": [
    "import pandas as pd\n",
    "import numpy as np\n",
    "\n",
    "path = r'C:\\Users\\italo\\OneDrive\\Desktop\\ids_2020-05-01'\n",
    "\n",
    "df = pd.read_csv(path + '.tsv', sep = '\\t')\n",
    "df.head()"
   ]
  },
  {
   "cell_type": "markdown",
   "metadata": {},
   "source": [
    "## Create file .txt"
   ]
  },
  {
   "cell_type": "code",
   "execution_count": 2,
   "metadata": {},
   "outputs": [],
   "source": [
    "df = df['tweet_id']\n",
    "df.to_csv(path + 'tweet_ids0501.txt', header = False, index = False)"
   ]
  },
  {
   "cell_type": "markdown",
   "metadata": {},
   "source": [
    "## Hidration"
   ]
  },
  {
   "cell_type": "code",
   "execution_count": 3,
   "metadata": {},
   "outputs": [],
   "source": [
    "from twarc import Twarc\n",
    "from itertools import islice\n",
    "\n",
    "consumer_key = ''\n",
    "consumer_secret = ''\n",
    "access_token = ''\n",
    "access_token_secret = ''\n",
    "\n",
    "twarc = Twarc(consumer_key, consumer_secret, access_token, access_token_secret)\n",
    "\n",
    "tweets_0501=[]\n",
    "i = 0\n",
    "for tweet in twarc.hydrate(open(r'C:\\Users\\italo\\OneDrive\\Desktop\\ids_2020-05-01tweet_ids0501.txt')):\n",
    "    tweets_0501.append(tweet)\n",
    "    i += 1\n",
    "    if i == 20000:\n",
    "        break"
   ]
  },
  {
   "cell_type": "markdown",
   "metadata": {},
   "source": [
    "## Tweets full data will be written in .json file"
   ]
  },
  {
   "cell_type": "code",
   "execution_count": 4,
   "metadata": {},
   "outputs": [],
   "source": [
    "import json\n",
    "\n",
    "f = open('tweets_0501.jsonl', 'w')\n",
    "\n",
    "for tweet in tweets_0501:\n",
    "    f.write(json.dumps(tweet) + '\\n')\n",
    "    \n",
    "f.close()"
   ]
  },
  {
   "cell_type": "code",
   "execution_count": 5,
   "metadata": {},
   "outputs": [
    {
     "data": {
      "text/plain": [
       "['admin', 'config', 'covid-19', 'local']"
      ]
     },
     "execution_count": 5,
     "metadata": {},
     "output_type": "execute_result"
    }
   ],
   "source": [
    "import pymongo\n",
    "\n",
    "# connection\n",
    "client = pymongo.MongoClient('127.0.0.1', 27017)\n",
    "\n",
    "#select the db by its name\n",
    "db = client['covid-19']\n",
    "\n",
    "#created or switched to collection names: tweets_sample\n",
    "collection = db.tweets_0501\n",
    "\n",
    "#bulk insertion of the data\n",
    "res = collection.insert_many(tweets_0501)\n",
    "\n",
    "#print out available databases names\n",
    "client.list_database_names()"
   ]
  },
  {
   "cell_type": "code",
   "execution_count": 7,
   "metadata": {},
   "outputs": [
    {
     "name": "stdout",
     "output_type": "stream",
     "text": [
      "Number of tweets ->  20000\n"
     ]
    }
   ],
   "source": [
    "print(\"Number of tweets -> \" , db.tweets_0501.count_documents({}))"
   ]
  },
  {
   "cell_type": "code",
   "execution_count": 8,
   "metadata": {},
   "outputs": [
    {
     "name": "stdout",
     "output_type": "stream",
     "text": [
      "Number of ITALIAN tweets ->  257\n"
     ]
    }
   ],
   "source": [
    "print(\"Number of ITALIAN tweets -> \" , db.tweets_0501.count_documents({ \"lang\" :\n",
    "\"it\"}))"
   ]
  },
  {
   "cell_type": "code",
   "execution_count": null,
   "metadata": {},
   "outputs": [],
   "source": []
  }
 ],
 "metadata": {
  "kernelspec": {
   "display_name": "Python 3",
   "language": "python",
   "name": "python3"
  },
  "language_info": {
   "codemirror_mode": {
    "name": "ipython",
    "version": 3
   },
   "file_extension": ".py",
   "mimetype": "text/x-python",
   "name": "python",
   "nbconvert_exporter": "python",
   "pygments_lexer": "ipython3",
   "version": "3.7.3"
  }
 },
 "nbformat": 4,
 "nbformat_minor": 2
}
